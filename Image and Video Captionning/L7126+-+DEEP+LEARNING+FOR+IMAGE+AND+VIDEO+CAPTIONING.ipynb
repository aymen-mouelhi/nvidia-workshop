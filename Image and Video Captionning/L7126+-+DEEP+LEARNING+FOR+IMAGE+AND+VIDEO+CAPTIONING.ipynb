{
 "cells": [
  {
   "cell_type": "markdown",
   "metadata": {},
   "source": [
    "![alt text](16_DeepLearningInstitute_Logo_R11-RGB_Frame-04.png \"DLI_LOGO\")"
   ]
  },
  {
   "cell_type": "markdown",
   "metadata": {},
   "source": [
    "## Scene Generation Description\n",
    "\n",
    "Presented by NVIDIA's Deep Learning Institute\n",
    "\n",
    "Created by Allison Gray and Myrieme Demouth\n",
    "\n",
    "Artificial neural networks are typically structured to make sense out of specific kinds of data: a network designed to identify the main object in an image is different from a network designed to understand the context of a sentence.\n",
    "\n",
    "However, many tasks require multiple types of networks. This lab will combine the outputs of an image classification network with inputs of a natural language processing network to generate descriptions (captions) of images and videos. "
   ]
  },
  {
   "cell_type": "markdown",
   "metadata": {},
   "source": [
    "#### [Task 1 Image Captioning](imagecaptioning/MSCOCO_Captioning.ipynb)\n",
    "\n",
    "Attendees will get hands-on experience with combining data from a Convolutional Neural Network (CNN) with an Recurrent Neural Network(RNN) to caption images using the MSCOCO image and caption dataset."
   ]
  },
  {
   "cell_type": "markdown",
   "metadata": {},
   "source": [
    "#### [Task 2 -  Video Captioning](videocaptioning/VideoCaptioning.ipynb)\n",
    "Next, attendees will combine all the things they've learned generate captions about *video* clips. If you'd like to try to build it yourself, below is a version that walks you through finding the mean image and then leaves space for you to apply what you've learned in the workshop so far."
   ]
  },
  {
   "cell_type": "markdown",
   "metadata": {},
   "source": [
    "#### [Reference -  Recurrent Neural Networks](wordprediction/RecurrentNeuralNetwork.ipynb)\n",
    "\n",
    "Here is a link to a review on text generation using RNNs. This is a copy of \"Text Generation with TensorFlow\" that demonstrated the power of RNNs with word generation examples. Participants explored and experimented with RNNs to learn how to configure and use them to generate sentences. Captions from MSCOCO dataset will be used to train an RNN with different network parameters."
   ]
  }
 ],
 "metadata": {
  "kernelspec": {
   "display_name": "Python 2",
   "language": "python",
   "name": "python2"
  },
  "language_info": {
   "codemirror_mode": {
    "name": "ipython",
    "version": 2
   },
   "file_extension": ".py",
   "mimetype": "text/x-python",
   "name": "python",
   "nbconvert_exporter": "python",
   "pygments_lexer": "ipython2",
   "version": "2.7.12"
  }
 },
 "nbformat": 4,
 "nbformat_minor": 2
}
